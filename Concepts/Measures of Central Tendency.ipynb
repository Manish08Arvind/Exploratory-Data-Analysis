{
 "cells": [
  {
   "cell_type": "code",
   "execution_count": 1,
   "id": "1ab0cbfb",
   "metadata": {},
   "outputs": [],
   "source": [
    "import pandas as pd\n",
    "import numpy as np\n",
    "\n",
    "import scipy\n",
    "from scipy import stats"
   ]
  },
  {
   "cell_type": "markdown",
   "id": "1885b313",
   "metadata": {},
   "source": [
    "#### Mean"
   ]
  },
  {
   "cell_type": "markdown",
   "id": "d7706111",
   "metadata": {},
   "source": [
    "Mean is a central tendency of the data.\n",
    "\n",
    "It is defined as the sum of all observations divided by the number of observations.\n",
    "\n",
    "The whole data is spread out around the mean."
   ]
  },
  {
   "cell_type": "code",
   "execution_count": 2,
   "id": "7d6631e5",
   "metadata": {},
   "outputs": [
    {
     "data": {
      "text/plain": [
       "57.064516129032256"
      ]
     },
     "execution_count": 2,
     "metadata": {},
     "output_type": "execute_result"
    }
   ],
   "source": [
    "# Example\n",
    "\n",
    "prices = pd.Series([0,0,35,40,10,54,87,12,95,64,56,4,45,76,34,56,87,34,56,32,56,48,89,\n",
    "                   42,65,100,99,98,100,96,99])\n",
    "prices.mean()"
   ]
  },
  {
   "cell_type": "code",
   "execution_count": 3,
   "id": "4d4fe8c3",
   "metadata": {},
   "outputs": [
    {
     "data": {
      "text/plain": [
       "57.064516129032256"
      ]
     },
     "execution_count": 3,
     "metadata": {},
     "output_type": "execute_result"
    }
   ],
   "source": [
    "# Adding some missing values in the previous series\n",
    "prices = pd.Series([0,0,35,40,10,54,87,np.nan,12,95,64,56,4,45,76,34,np.nan,56,\n",
    "                    87,34,56,32,56,48,np.nan,89,42,65,100,99,98,100,96,99])\n",
    "prices.mean()"
   ]
  },
  {
   "cell_type": "markdown",
   "id": "3320a868",
   "metadata": {},
   "source": [
    "Python ignores missing values and calculate the mean of the available data in the series."
   ]
  },
  {
   "cell_type": "markdown",
   "id": "d85199dd",
   "metadata": {},
   "source": [
    "#### Trimmed mean"
   ]
  },
  {
   "cell_type": "code",
   "execution_count": 4,
   "id": "0532eca4",
   "metadata": {},
   "outputs": [
    {
     "data": {
      "text/plain": [
       "5.5"
      ]
     },
     "execution_count": 4,
     "metadata": {},
     "output_type": "execute_result"
    }
   ],
   "source": [
    "l = [1,2,3,4,5,6,7,8,9,10]\n",
    "\n",
    "scipy.stats.trim_mean(l,proportiontocut=0.20)"
   ]
  },
  {
   "cell_type": "code",
   "execution_count": 5,
   "id": "2f1711eb",
   "metadata": {},
   "outputs": [
    {
     "data": {
      "text/plain": [
       "5.5"
      ]
     },
     "execution_count": 5,
     "metadata": {},
     "output_type": "execute_result"
    }
   ],
   "source": [
    "# So, how does the trimmed mean work\n",
    "# 20% of number of observations from the top and bottom of the sequence need to be removed\n",
    "# so the from the list 'l' we remove 1,2,9,10\n",
    "# calculating the mean now with the rest of numbers\n",
    "np.mean([3,4,5,6,7,8])"
   ]
  },
  {
   "cell_type": "code",
   "execution_count": 6,
   "id": "122ee548",
   "metadata": {},
   "outputs": [],
   "source": [
    "# So, the mean calculated above matches the mean number derived from scipy.stats"
   ]
  },
  {
   "cell_type": "markdown",
   "id": "15526bb9",
   "metadata": {},
   "source": [
    "#### Median"
   ]
  },
  {
   "cell_type": "markdown",
   "id": "7864865b",
   "metadata": {},
   "source": [
    "Median is the middle most observation in the data when it is arranged in ascending or descending order of their values. "
   ]
  },
  {
   "cell_type": "markdown",
   "id": "6bee145b",
   "metadata": {},
   "source": [
    "It is divided into equal parts. Thus, it is a positional average."
   ]
  },
  {
   "cell_type": "markdown",
   "id": "105ef09d",
   "metadata": {},
   "source": [
    "Median will be the middle term if the number of observations are odd. "
   ]
  },
  {
   "cell_type": "markdown",
   "id": "1cffb256",
   "metadata": {},
   "source": [
    "Median will be average of middle two terms, if number of observations are even."
   ]
  },
  {
   "cell_type": "code",
   "execution_count": 7,
   "id": "918ef115",
   "metadata": {},
   "outputs": [
    {
     "data": {
      "text/plain": [
       "56.0"
      ]
     },
     "execution_count": 7,
     "metadata": {},
     "output_type": "execute_result"
    }
   ],
   "source": [
    "prices.median()"
   ]
  },
  {
   "cell_type": "markdown",
   "id": "def3bda8",
   "metadata": {},
   "source": [
    "#### Mode"
   ]
  },
  {
   "cell_type": "markdown",
   "id": "eca8dea0",
   "metadata": {},
   "source": [
    "Mode of the data is the value that has highest frequency."
   ]
  },
  {
   "cell_type": "markdown",
   "id": "fb75ca8d",
   "metadata": {},
   "source": [
    "In other ways, it is the most repeated observation."
   ]
  },
  {
   "cell_type": "markdown",
   "id": "b1fba660",
   "metadata": {},
   "source": [
    "Mode can be unimodal, bimodal, multimodal i.e. there can one or more than one mode present in a series of data."
   ]
  },
  {
   "cell_type": "code",
   "execution_count": 8,
   "id": "5fd7a20a",
   "metadata": {},
   "outputs": [
    {
     "data": {
      "text/plain": [
       "0    56.0\n",
       "dtype: float64"
      ]
     },
     "execution_count": 8,
     "metadata": {},
     "output_type": "execute_result"
    }
   ],
   "source": [
    "prices.mode()"
   ]
  },
  {
   "cell_type": "markdown",
   "id": "f67aecce",
   "metadata": {},
   "source": [
    "### Partition Values"
   ]
  },
  {
   "cell_type": "markdown",
   "id": "0afe3155",
   "metadata": {},
   "source": [
    "#### Quartiles"
   ]
  },
  {
   "cell_type": "markdown",
   "id": "7f8b12ef",
   "metadata": {},
   "source": [
    "The values that divide the data into four equal parts are called quartiles."
   ]
  },
  {
   "cell_type": "markdown",
   "id": "89ac4df2",
   "metadata": {},
   "source": [
    "25% of the data lies below first quartile and 75% percent above it."
   ]
  },
  {
   "cell_type": "markdown",
   "id": "6b314abe",
   "metadata": {},
   "source": [
    "The second quartile divides the data into two equal halves. Q2 is the median."
   ]
  },
  {
   "cell_type": "markdown",
   "id": "7e6fc9dd",
   "metadata": {},
   "source": [
    "The third quartile divides the observation into 75%-25% i.e that 75% of the data lies below Q3 and 25% above it. "
   ]
  },
  {
   "cell_type": "code",
   "execution_count": 9,
   "id": "24b6b00c",
   "metadata": {},
   "outputs": [
    {
     "data": {
      "text/plain": [
       "34.5"
      ]
     },
     "execution_count": 9,
     "metadata": {},
     "output_type": "execute_result"
    }
   ],
   "source": [
    "# First Quartile\n",
    "prices.quantile(0.25)"
   ]
  },
  {
   "cell_type": "code",
   "execution_count": 10,
   "id": "a710d56f",
   "metadata": {},
   "outputs": [
    {
     "data": {
      "text/plain": [
       "56.0"
      ]
     },
     "execution_count": 10,
     "metadata": {},
     "output_type": "execute_result"
    }
   ],
   "source": [
    "# Second Quartile or Median\n",
    "prices.quantile(0.50)"
   ]
  },
  {
   "cell_type": "code",
   "execution_count": 11,
   "id": "f42a0ffd",
   "metadata": {},
   "outputs": [
    {
     "data": {
      "text/plain": [
       "88.0"
      ]
     },
     "execution_count": 11,
     "metadata": {},
     "output_type": "execute_result"
    }
   ],
   "source": [
    "# Third Quartile\n",
    "prices.quantile(0.75)"
   ]
  },
  {
   "cell_type": "markdown",
   "id": "45e55149",
   "metadata": {},
   "source": [
    "#### Decile"
   ]
  },
  {
   "cell_type": "markdown",
   "id": "df52f4e8",
   "metadata": {},
   "source": [
    "The values that divide the dataset into 10 equal parts are called deciles."
   ]
  },
  {
   "cell_type": "markdown",
   "id": "e873af33",
   "metadata": {},
   "source": [
    "The first value in the decile output simply denotes the minimum value."
   ]
  },
  {
   "cell_type": "markdown",
   "id": "ba17658d",
   "metadata": {},
   "source": [
    "10% of the data lies below the first decile and 90% above it."
   ]
  },
  {
   "cell_type": "markdown",
   "id": "822be4a3",
   "metadata": {},
   "source": [
    "Similarly, 20% of the data lies below second decile and 80% above it."
   ]
  },
  {
   "cell_type": "markdown",
   "id": "58ff2686",
   "metadata": {},
   "source": [
    "The fifth decile is same as second quartile i.e D5 = Q2 = Median."
   ]
  },
  {
   "cell_type": "markdown",
   "id": "bfc992c8",
   "metadata": {},
   "source": [
    "Therefore, there are 9 deciles."
   ]
  },
  {
   "cell_type": "code",
   "execution_count": 12,
   "id": "777deded",
   "metadata": {},
   "outputs": [],
   "source": [
    "# Removing NaNs to calculate decile\n",
    "prices.dropna(inplace=True)"
   ]
  },
  {
   "cell_type": "code",
   "execution_count": 13,
   "id": "7e50f1a7",
   "metadata": {},
   "outputs": [
    {
     "data": {
      "text/plain": [
       "array([ 0., 10., 34., 40., 48., 56., 64., 87., 95., 99.])"
      ]
     },
     "execution_count": 13,
     "metadata": {},
     "output_type": "execute_result"
    }
   ],
   "source": [
    "np.percentile(prices,np.arange(0,100,10))"
   ]
  },
  {
   "cell_type": "markdown",
   "id": "dd219ca5",
   "metadata": {},
   "source": [
    "10% of the data values lie below 10\n",
    "\n",
    "20% of the data values lie below 34\n",
    "\n",
    "30% of the data values lie below 40\n",
    "\n",
    "40% of the data values lie below 48\n",
    "\n",
    "50% of the data values lie below 56\n",
    "\n",
    "60% of the data values lie below 64\n",
    "\n",
    "70% of the data values lie below 87\n",
    "\n",
    "80% of the data values lie below 95\n",
    "\n",
    "90% of the data values lie below 99"
   ]
  }
 ],
 "metadata": {
  "kernelspec": {
   "display_name": "Python 3 (ipykernel)",
   "language": "python",
   "name": "python3"
  },
  "language_info": {
   "codemirror_mode": {
    "name": "ipython",
    "version": 3
   },
   "file_extension": ".py",
   "mimetype": "text/x-python",
   "name": "python",
   "nbconvert_exporter": "python",
   "pygments_lexer": "ipython3",
   "version": "3.11.4"
  }
 },
 "nbformat": 4,
 "nbformat_minor": 5
}
